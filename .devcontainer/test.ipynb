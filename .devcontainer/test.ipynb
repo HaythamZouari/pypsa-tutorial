{
 "cells": [
  {
   "cell_type": "code",
   "execution_count": null,
   "id": "b2721957",
   "metadata": {
    "vscode": {
     "languageId": "plaintext"
    }
   },
   "outputs": [],
   "source": [
    "import pypsa\n",
    "\n",
    "n = pypsa.Network()\n",
    "n.add(\"Bus\", \"bus1\")\n",
    "n.add(\"Load\", \"load\", bus=\"bus1\", p_set=50)\n",
    "\n",
    "print(n.loads)\n"
   ]
  },
  {
   "cell_type": "code",
   "execution_count": null,
   "id": "76aa7ec9",
   "metadata": {
    "vscode": {
     "languageId": "plaintext"
    }
   },
   "outputs": [],
   "source": []
  }
 ],
 "metadata": {
  "language_info": {
   "name": "python"
  }
 },
 "nbformat": 4,
 "nbformat_minor": 5
}
