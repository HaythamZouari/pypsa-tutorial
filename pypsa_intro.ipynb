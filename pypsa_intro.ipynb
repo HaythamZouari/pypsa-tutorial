{
 "cells": [
  {
   "cell_type": "code",
   "execution_count": null,
   "id": "77ae3651-11f1-4ba3-b8f6-bf76ceff368c",
   "metadata": {},
   "outputs": [
    {
     "ename": "ModuleNotFoundError",
     "evalue": "No module named 'pypsa'",
     "output_type": "error",
     "traceback": [
      "\u001b[31m---------------------------------------------------------------------------\u001b[39m",
      "\u001b[31mModuleNotFoundError\u001b[39m                       Traceback (most recent call last)",
      "\u001b[36mCell\u001b[39m\u001b[36m \u001b[39m\u001b[32mIn[1]\u001b[39m\u001b[32m, line 1\u001b[39m\n\u001b[32m----> \u001b[39m\u001b[32m1\u001b[39m \u001b[38;5;28;01mimport\u001b[39;00m\u001b[38;5;250m \u001b[39m\u001b[34;01mpypsa\u001b[39;00m\n\u001b[32m      3\u001b[39m \u001b[38;5;66;03m# Create empty network\u001b[39;00m\n\u001b[32m      4\u001b[39m n = pypsa.Network()\n",
      "\u001b[31mModuleNotFoundError\u001b[39m: No module named 'pypsa'"
     ]
    }
   ],
   "source": [
    "import pypsa\n",
    "\n",
    "# Create empty network\n",
    "n = pypsa.Network()\n",
    "\n",
    "# Add one bus, one generator, one load\n",
    "n.add(\"Bus\", \"bus1\")\n",
    "n.add(\"Generator\", \"gen\", bus=\"bus1\", p_nom=100, marginal_cost=20)\n",
    "n.add(\"Load\", \"load\", bus=\"bus1\", p_set=50)\n",
    "\n",
    "print(n.loads)\n"
   ]
  },
  {
   "cell_type": "code",
   "execution_count": null,
   "id": "53ec0677-75f9-4840-bfc6-3bb49f49e384",
   "metadata": {},
   "outputs": [],
   "source": [
    "import pypsa\n",
    "\n",
    "# Create empty network\n",
    "n = pypsa.Network()\n",
    "\n",
    "# Add one bus, one generator, one load\n",
    "n.add(\"Bus\", \"bus1\")\n",
    "n.add(\"Generator\", \"gen\", bus=\"bus1\", p_nom=100, marginal_cost=20)\n",
    "n.add(\"Load\", \"load\", bus=\"bus1\", p_set=50)\n",
    "\n",
    "print(n.loads)\n",
    "\n"
   ]
  },
  {
   "cell_type": "code",
   "execution_count": null,
   "id": "e9c28da5-4ab0-4bbe-b257-8a6b83a7f408",
   "metadata": {},
   "outputs": [
    {
     "ename": "ModuleNotFoundError",
     "evalue": "No module named 'pypsa'",
     "output_type": "error",
     "traceback": [
      "\u001b[31m---------------------------------------------------------------------------\u001b[39m",
      "\u001b[31mModuleNotFoundError\u001b[39m                       Traceback (most recent call last)",
      "\u001b[36mCell\u001b[39m\u001b[36m \u001b[39m\u001b[32mIn[2]\u001b[39m\u001b[32m, line 1\u001b[39m\n\u001b[32m----> \u001b[39m\u001b[32m1\u001b[39m \u001b[38;5;28;01mimport\u001b[39;00m\u001b[38;5;250m \u001b[39m\u001b[34;01mpypsa\u001b[39;00m\n\u001b[32m      3\u001b[39m \u001b[38;5;66;03m# Create empty network\u001b[39;00m\n\u001b[32m      4\u001b[39m n = pypsa.Network()\n",
      "\u001b[31mModuleNotFoundError\u001b[39m: No module named 'pypsa'"
     ]
    }
   ],
   "source": [
    "import pypsa\n",
    "\n",
    "# Create empty network\n",
    "n = pypsa.Network()\n",
    "\n",
    "# Add one bus, one generator, one load\n",
    "n.add(\"Bus\", \"bus1\")\n",
    "n.add(\"Generator\", \"gen\", bus=\"bus1\", p_nom=100, marginal_cost=20)\n",
    "n.add(\"Load\", \"load\", bus=\"bus1\", p_set=50)\n",
    "\n",
    "print(n.loads)\n",
    "\n"
   ]
  },
  {
   "cell_type": "code",
   "execution_count": null,
   "id": "07fe30a0-8273-4d99-886e-5733a9be4708",
   "metadata": {},
   "outputs": [
    {
     "ename": "ModuleNotFoundError",
     "evalue": "No module named 'pypsa'",
     "output_type": "error",
     "traceback": [
      "\u001b[31m---------------------------------------------------------------------------\u001b[39m",
      "\u001b[31mModuleNotFoundError\u001b[39m                       Traceback (most recent call last)",
      "\u001b[36mCell\u001b[39m\u001b[36m \u001b[39m\u001b[32mIn[3]\u001b[39m\u001b[32m, line 1\u001b[39m\n\u001b[32m----> \u001b[39m\u001b[32m1\u001b[39m \u001b[38;5;28;01mimport\u001b[39;00m\u001b[38;5;250m \u001b[39m\u001b[34;01mpypsa\u001b[39;00m\n\u001b[32m      3\u001b[39m \u001b[38;5;66;03m# Create empty network\u001b[39;00m\n\u001b[32m      4\u001b[39m n = pypsa.Network()\n",
      "\u001b[31mModuleNotFoundError\u001b[39m: No module named 'pypsa'"
     ]
    }
   ],
   "source": [
    "import pypsa\n",
    "\n",
    "# Create empty network\n",
    "n = pypsa.Network()\n",
    "\n",
    "# Add one bus, one generator, one load\n",
    "n.add(\"Bus\", \"bus1\")\n",
    "n.add(\"Generator\", \"gen\", bus=\"bus1\", p_nom=100, marginal_cost=20)\n",
    "n.add(\"Load\", \"load\", bus=\"bus1\", p_set=50)\n",
    "\n",
    "print(n.loads)"
   ]
  },
  {
   "cell_type": "code",
   "execution_count": null,
   "id": "d25dbfa6-04cb-4865-9523-56a3fabb9cc8",
   "metadata": {},
   "outputs": [
    {
     "ename": "ModuleNotFoundError",
     "evalue": "No module named 'pypsa'",
     "output_type": "error",
     "traceback": [
      "\u001b[31m---------------------------------------------------------------------------\u001b[39m",
      "\u001b[31mModuleNotFoundError\u001b[39m                       Traceback (most recent call last)",
      "\u001b[36mCell\u001b[39m\u001b[36m \u001b[39m\u001b[32mIn[4]\u001b[39m\u001b[32m, line 1\u001b[39m\n\u001b[32m----> \u001b[39m\u001b[32m1\u001b[39m \u001b[38;5;28;01mimport\u001b[39;00m\u001b[38;5;250m \u001b[39m\u001b[34;01mpypsa\u001b[39;00m\n\u001b[32m      3\u001b[39m n = pypsa.Network()\n\u001b[32m      4\u001b[39m n.add(\u001b[33m\"\u001b[39m\u001b[33mBus\u001b[39m\u001b[33m\"\u001b[39m, \u001b[33m\"\u001b[39m\u001b[33mbus1\u001b[39m\u001b[33m\"\u001b[39m)\n",
      "\u001b[31mModuleNotFoundError\u001b[39m: No module named 'pypsa'"
     ]
    }
   ],
   "source": [
    "import pypsa\n",
    "\n",
    "n = pypsa.Network()\n",
    "n.add(\"Bus\", \"bus1\")\n",
    "n.add(\"Generator\", \"gen\", bus=\"bus1\", p_nom=100, marginal_cost=20)\n",
    "n.add(\"Load\", \"load\", bus=\"bus1\", p_set=50)\n",
    "\n",
    "n.optimize(solver_name=\"glpk\")   # specify solver\n",
    "print(n.generators_t.p)\n",
    "\n"
   ]
  },
  {
   "cell_type": "code",
   "execution_count": null,
   "id": "4f30698b-dcc5-4cfa-8045-110b9b3bd937",
   "metadata": {},
   "outputs": [
    {
     "ename": "ModuleNotFoundError",
     "evalue": "No module named 'pypsa'",
     "output_type": "error",
     "traceback": [
      "\u001b[31m---------------------------------------------------------------------------\u001b[39m",
      "\u001b[31mModuleNotFoundError\u001b[39m                       Traceback (most recent call last)",
      "\u001b[36mCell\u001b[39m\u001b[36m \u001b[39m\u001b[32mIn[1]\u001b[39m\u001b[32m, line 1\u001b[39m\n\u001b[32m----> \u001b[39m\u001b[32m1\u001b[39m \u001b[38;5;28;01mimport\u001b[39;00m\u001b[38;5;250m \u001b[39m\u001b[34;01mpypsa\u001b[39;00m\n\u001b[32m      3\u001b[39m n = pypsa.Network()\n\u001b[32m      4\u001b[39m n.add(\u001b[33m\"\u001b[39m\u001b[33mBus\u001b[39m\u001b[33m\"\u001b[39m, \u001b[33m\"\u001b[39m\u001b[33mbus1\u001b[39m\u001b[33m\"\u001b[39m)\n",
      "\u001b[31mModuleNotFoundError\u001b[39m: No module named 'pypsa'"
     ]
    }
   ],
   "source": [
    "import pypsa\n",
    "\n",
    "n = pypsa.Network()\n",
    "n.add(\"Bus\", \"bus1\")\n",
    "n.add(\"Generator\", \"gen\", bus=\"bus1\", p_nom=100, marginal_cost=20)\n",
    "n.add(\"Load\", \"load\", bus=\"bus1\", p_set=50)\n",
    "\n",
    "n.optimize(solver_name=\"glpk\")   # specify solver\n",
    "print(n.generators_t.p)\n",
    "\n"
   ]
  },
  {
   "cell_type": "code",
   "execution_count": null,
   "id": "8c15f60d-4377-4e76-936a-767eb33af10f",
   "metadata": {},
   "outputs": [
    {
     "name": "stdout",
     "output_type": "stream",
     "text": [
      "/usr/local/python/3.12.1/bin/python3\n"
     ]
    }
   ],
   "source": [
    "import sys\n",
    "print(sys.executable)"
   ]
  },
  {
   "cell_type": "code",
   "execution_count": null,
   "id": "271ce4a2-2384-450c-97cc-8e21ad94e1c9",
   "metadata": {},
   "outputs": [
    {
     "ename": "SyntaxError",
     "evalue": "invalid syntax (378402623.py, line 2)",
     "output_type": "error",
     "traceback": [
      "  \u001b[36mCell\u001b[39m\u001b[36m \u001b[39m\u001b[32mIn[3]\u001b[39m\u001b[32m, line 2\u001b[39m\n\u001b[31m    \u001b[39m\u001b[31mpython3 -m pip install --user pypsa glpk matplotlib\u001b[39m\n               ^\n\u001b[31mSyntaxError\u001b[39m\u001b[31m:\u001b[39m invalid syntax\n"
     ]
    }
   ],
   "source": [
    "# Make sure you use the same python as the notebook\n",
    "python3 -m pip install --user pypsa glpk matplotlib\n"
   ]
  },
  {
   "cell_type": "code",
   "execution_count": null,
   "id": "81ff6e55-608a-4926-9197-0956114ce487",
   "metadata": {},
   "outputs": [
    {
     "name": "stderr",
     "output_type": "stream",
     "text": [
      "WARNING:pypsa.consistency:The following buses have carriers which are not defined:\n",
      "Index(['bus1'], dtype='object', name='Bus')\n",
      "INFO:linopy.model: Solve problem using Glpk solver\n",
      "INFO:linopy.io: Writing time: 0.01s\n",
      "INFO:linopy.solvers:GLPSOL--GLPK LP/MIP Solver 5.0\n",
      "Parameter(s) specified in the command line:\n",
      " --lp /tmp/linopy-problem-0sd8vtdq.lp --output /tmp/linopy-solve-n5_q1b57.sol\n",
      "Reading problem data from '/tmp/linopy-problem-0sd8vtdq.lp'...\n",
      "3 rows, 1 column, 3 non-zeros\n",
      "24 lines were read\n",
      "GLPK Simplex Optimizer 5.0\n",
      "3 rows, 1 column, 3 non-zeros\n",
      "Preprocessing...\n",
      "~     0: obj =   1.000000000e+03  infeas =  0.000e+00\n",
      "OPTIMAL SOLUTION FOUND BY LP PREPROCESSOR\n",
      "Time used:   0.0 secs\n",
      "Memory used: 0.0 Mb (39693 bytes)\n",
      "Writing basic solution to '/tmp/linopy-solve-n5_q1b57.sol'...\n",
      "\n",
      "INFO:linopy.constants: Optimization successful: \n",
      "Status: ok\n",
      "Termination condition: optimal\n",
      "Solution: 1 primals, 3 duals\n",
      "Objective: 1.00e+03\n",
      "Solver model: not available\n",
      "Solver message: optimal\n",
      "\n",
      "INFO:pypsa.optimization.optimize:The shadow-prices of the constraints Generator-fix-p-lower, Generator-fix-p-upper were not assigned to the network.\n"
     ]
    },
    {
     "name": "stdout",
     "output_type": "stream",
     "text": [
      "Generator   gen\n",
      "snapshot       \n",
      "now        50.0\n"
     ]
    }
   ],
   "source": [
    "import pypsa\n",
    "\n",
    "n = pypsa.Network()\n",
    "n.add(\"Bus\", \"bus1\")\n",
    "n.add(\"Generator\", \"gen\", bus=\"bus1\", p_nom=100, marginal_cost=20)\n",
    "n.add(\"Load\", \"load\", bus=\"bus1\", p_set=50)\n",
    "\n",
    "n.optimize(solver_name=\"glpk\")\n",
    "print(n.generators_t.p)\n"
   ]
  },
  {
   "cell_type": "code",
   "execution_count": null,
   "id": "86f1808b-20c4-452f-9c1c-c7f35013d878",
   "metadata": {},
   "outputs": [
    {
     "name": "stderr",
     "output_type": "stream",
     "text": [
      "WARNING:pypsa.network.io:The following generators are already defined and will be skipped (use overwrite=True to overwrite): gen\n"
     ]
    },
    {
     "data": {
      "text/plain": [
       "Index(['gen'], dtype='object')"
      ]
     },
     "execution_count": 3,
     "metadata": {},
     "output_type": "execute_result"
    }
   ],
   "source": [
    "n.add(\"Generator\", \"gen\", bus=\"bus1\", p_nom=100, marginal_cost=20, carrier=\"AC\")"
   ]
  },
  {
   "cell_type": "code",
   "execution_count": null,
   "id": "5e5e9a1f-9c82-4dfb-9ca4-1c574dad3460",
   "metadata": {},
   "outputs": [],
   "source": []
  }
 ],
 "metadata": {
  "kernelspec": {
   "display_name": "Python 3 (ipykernel)",
   "language": "python",
   "name": "python3"
  },
  "language_info": {
   "codemirror_mode": {
    "name": "ipython",
    "version": 3
   },
   "file_extension": ".py",
   "mimetype": "text/x-python",
   "name": "python",
   "nbconvert_exporter": "python",
   "pygments_lexer": "ipython3",
   "version": "3.12.1"
  }
 },
 "nbformat": 4,
 "nbformat_minor": 5
}
